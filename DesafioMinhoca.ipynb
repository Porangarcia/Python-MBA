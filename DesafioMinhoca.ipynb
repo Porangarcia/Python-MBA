{
 "cells": [
  {
   "cell_type": "code",
   "execution_count": 32,
   "metadata": {},
   "outputs": [],
   "source": [
    "class SobeDesce():\n",
    "    sobe = 0\n",
    "    desce = 0 \n",
    "    profundidade = 0\n",
    "    \n",
    "    def __init__(self, sobe, desce, profundidade):\n",
    "        self.sobe = sobe\n",
    "        self.desce = desce\n",
    "        self.profundidade = profundidade\n",
    "        \n",
    "    def totaldias(self):\n",
    "        soma = self.sobe + self.desce\n",
    "        while soma < self.profundidade:\n",
    "            soma += 1\n",
    "        return soma\n",
    "\n"
   ]
  },
  {
   "cell_type": "code",
   "execution_count": 33,
   "metadata": {},
   "outputs": [
    {
     "data": {
      "text/plain": [
       "10"
      ]
     },
     "execution_count": 33,
     "metadata": {},
     "output_type": "execute_result"
    }
   ],
   "source": [
    "sobeDesce = SobeDesce(2, -1, 10)\n",
    "sobeDesce.totaldias()\n"
   ]
  },
  {
   "cell_type": "code",
   "execution_count": null,
   "metadata": {},
   "outputs": [],
   "source": []
  }
 ],
 "metadata": {
  "kernelspec": {
   "display_name": "Python 3",
   "language": "python",
   "name": "python3"
  },
  "language_info": {
   "codemirror_mode": {
    "name": "ipython",
    "version": 3
   },
   "file_extension": ".py",
   "mimetype": "text/x-python",
   "name": "python",
   "nbconvert_exporter": "python",
   "pygments_lexer": "ipython3",
   "version": "3.8.3"
  }
 },
 "nbformat": 4,
 "nbformat_minor": 4
}
